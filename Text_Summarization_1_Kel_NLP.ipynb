{
 "cells": [
  {
   "cell_type": "markdown",
   "metadata": {
    "id": "bAzs1hrlT5Hb"
   },
   "source": [
    "# TEXT SUMMARIZATION USING BART TRANSFORMER MODEL"
   ]
  },
  {
   "cell_type": "markdown",
   "metadata": {
    "id": "88dhfknnUdjX"
   },
   "source": [
    "BART - Bidirectional and Auto Regressive Transformers"
   ]
  },
  {
   "cell_type": "markdown",
   "metadata": {
    "id": "-t-1L0cx6JSz"
   },
   "source": [
    "#### LOADING THE DATASET"
   ]
  },
  {
   "cell_type": "code",
   "execution_count": null,
   "metadata": {
    "colab": {
     "base_uri": "https://localhost:8080/"
    },
    "collapsed": true,
    "id": "wU7nfJUo4kjd",
    "outputId": "ce387649-f297-43f5-d400-974bdea6670a"
   },
   "outputs": [
    {
     "name": "stdout",
     "output_type": "stream",
     "text": [
      "Requirement already satisfied: datasets in /usr/local/lib/python3.11/dist-packages (3.5.0)\n",
      "Requirement already satisfied: filelock in /usr/local/lib/python3.11/dist-packages (from datasets) (3.18.0)\n",
      "Requirement already satisfied: numpy>=1.17 in /usr/local/lib/python3.11/dist-packages (from datasets) (2.0.2)\n",
      "Requirement already satisfied: pyarrow>=15.0.0 in /usr/local/lib/python3.11/dist-packages (from datasets) (18.1.0)\n",
      "Requirement already satisfied: dill<0.3.9,>=0.3.0 in /usr/local/lib/python3.11/dist-packages (from datasets) (0.3.8)\n",
      "Requirement already satisfied: pandas in /usr/local/lib/python3.11/dist-packages (from datasets) (2.2.2)\n",
      "Requirement already satisfied: requests>=2.32.2 in /usr/local/lib/python3.11/dist-packages (from datasets) (2.32.3)\n",
      "Requirement already satisfied: tqdm>=4.66.3 in /usr/local/lib/python3.11/dist-packages (from datasets) (4.67.1)\n",
      "Requirement already satisfied: xxhash in /usr/local/lib/python3.11/dist-packages (from datasets) (3.5.0)\n",
      "Requirement already satisfied: multiprocess<0.70.17 in /usr/local/lib/python3.11/dist-packages (from datasets) (0.70.16)\n",
      "Requirement already satisfied: fsspec<=2024.12.0,>=2023.1.0 in /usr/local/lib/python3.11/dist-packages (from fsspec[http]<=2024.12.0,>=2023.1.0->datasets) (2024.12.0)\n",
      "Requirement already satisfied: aiohttp in /usr/local/lib/python3.11/dist-packages (from datasets) (3.11.15)\n",
      "Requirement already satisfied: huggingface-hub>=0.24.0 in /usr/local/lib/python3.11/dist-packages (from datasets) (0.30.1)\n",
      "Requirement already satisfied: packaging in /usr/local/lib/python3.11/dist-packages (from datasets) (24.2)\n",
      "Requirement already satisfied: pyyaml>=5.1 in /usr/local/lib/python3.11/dist-packages (from datasets) (6.0.2)\n",
      "Requirement already satisfied: aiohappyeyeballs>=2.3.0 in /usr/local/lib/python3.11/dist-packages (from aiohttp->datasets) (2.6.1)\n",
      "Requirement already satisfied: aiosignal>=1.1.2 in /usr/local/lib/python3.11/dist-packages (from aiohttp->datasets) (1.3.2)\n",
      "Requirement already satisfied: attrs>=17.3.0 in /usr/local/lib/python3.11/dist-packages (from aiohttp->datasets) (25.3.0)\n",
      "Requirement already satisfied: frozenlist>=1.1.1 in /usr/local/lib/python3.11/dist-packages (from aiohttp->datasets) (1.5.0)\n",
      "Requirement already satisfied: multidict<7.0,>=4.5 in /usr/local/lib/python3.11/dist-packages (from aiohttp->datasets) (6.3.2)\n",
      "Requirement already satisfied: propcache>=0.2.0 in /usr/local/lib/python3.11/dist-packages (from aiohttp->datasets) (0.3.1)\n",
      "Requirement already satisfied: yarl<2.0,>=1.17.0 in /usr/local/lib/python3.11/dist-packages (from aiohttp->datasets) (1.18.3)\n",
      "Requirement already satisfied: typing-extensions>=3.7.4.3 in /usr/local/lib/python3.11/dist-packages (from huggingface-hub>=0.24.0->datasets) (4.13.1)\n",
      "Requirement already satisfied: charset-normalizer<4,>=2 in /usr/local/lib/python3.11/dist-packages (from requests>=2.32.2->datasets) (3.4.1)\n",
      "Requirement already satisfied: idna<4,>=2.5 in /usr/local/lib/python3.11/dist-packages (from requests>=2.32.2->datasets) (3.10)\n",
      "Requirement already satisfied: urllib3<3,>=1.21.1 in /usr/local/lib/python3.11/dist-packages (from requests>=2.32.2->datasets) (2.3.0)\n",
      "Requirement already satisfied: certifi>=2017.4.17 in /usr/local/lib/python3.11/dist-packages (from requests>=2.32.2->datasets) (2025.1.31)\n",
      "Requirement already satisfied: python-dateutil>=2.8.2 in /usr/local/lib/python3.11/dist-packages (from pandas->datasets) (2.8.2)\n",
      "Requirement already satisfied: pytz>=2020.1 in /usr/local/lib/python3.11/dist-packages (from pandas->datasets) (2025.2)\n",
      "Requirement already satisfied: tzdata>=2022.7 in /usr/local/lib/python3.11/dist-packages (from pandas->datasets) (2025.2)\n",
      "Requirement already satisfied: six>=1.5 in /usr/local/lib/python3.11/dist-packages (from python-dateutil>=2.8.2->pandas->datasets) (1.17.0)\n"
     ]
    }
   ],
   "source": [
    "!pip install datasets"
   ]
  },
  {
   "cell_type": "code",
   "execution_count": null,
   "metadata": {
    "colab": {
     "base_uri": "https://localhost:8080/",
     "height": 365,
     "referenced_widgets": [
      "67f8aa28391b44799f6b9038eb379557",
      "55f6d484479940f1ae2a3dbbb03ad081",
      "6a3d3b1ec54c4570893ae381c7eb2c34",
      "a41e63f532c64a03ab7ae5b0132f85ca",
      "b4d22552d05e42e69bf7e9deed1c1074",
      "83e088cbc37b43b5a706cf2ef4fd8bc2",
      "069ab91eeee14c41aea1e603adec42d6",
      "4804f7161b074f7da12e20297dee901a",
      "3c29cacd3030453c9b20606c1458e72a",
      "5dc8636703044076bacca9438ecd6529",
      "b92e24c3e040495396c0ebff2978bbf4",
      "53f55dfea2614e0c86719ec942061124",
      "c050de3fda0f4a3cb64c17256cd28f60",
      "566aa8f935654e719dfdbd09e57c0a6d",
      "a4a8d3e027564107919f8bb0287aab4f",
      "2c1a2c6713f94845bc6abaf3512219d3",
      "e02bf56748af49c7af24fd9b963854f2",
      "b9b4065720ba44da98a2c45e21d33e8b",
      "0dedbc2e3e554f5c91cf9cf0018c619e",
      "95bab5e018d840d2b02f507d6a325403",
      "4d86c0b524f843f18ee3ee74d095f9cf",
      "4408cf59e3d048e59d0c69641b136948",
      "e76daeb80f16469cb0611e422be56b5b",
      "719c0dc68d8d47999363160d042222f0",
      "d10109ac961243efbe5ec45ea6c6eb58",
      "f838b974543d48d7b0b0f5a8516759cd",
      "dc9a75912f35439ea01c4df7cb4489e2",
      "69886bdae3e24edf93edb6aeef89e3ff",
      "fcb25a7c0e1545b3a139aa615aff71ad",
      "a5039e2488614d339a0c0cc06e6ca03b",
      "1b509ed5f4b844a4b96440bb5284c885",
      "5f050785d994470ba7642c0afb0ff164",
      "e4f7bdc6f222477aa1997ad7b2c9929b",
      "f6eae6f01a1443c9aa4a9677cdb55090",
      "c1b3807a97514dbfbd1369df83151920",
      "9ce87da449fc47cdb4164eb01482be9a",
      "d3b4afee34864731acd3edfaa3e91232",
      "4e247614e32949cbab050fb217ab093e",
      "356015ac9b254d82ac4db7d72f278bbe",
      "84c11e26479e484a9ea03f0c09f102a5",
      "9004590d3b5649708321db7889259530",
      "0696ed1dab044091acb3ccce57311895",
      "4bd82c2c4c6d46f19d11d07eb1350b86",
      "8e2fd649d8f44f1e8b2d64ecbe73bbf7",
      "1ec6e05942984ff4bd7ebd882a597163",
      "128c13da823343edbe115c3f291b4153",
      "4c003d73be9f44e5b1a461152c7d64f9",
      "2e5631acd940468cb6bc93f13a8a48b2",
      "c177d33d4dd24067bf8e03dc952c0d94",
      "8acd0f52360c4a608a017fcc9df10f76",
      "1a2ee37363d64ba0b2ebe23c0b271bd6",
      "4e40ff6bab4241e385b2c13f8d5c823e",
      "0f732fc496434309951a0608c299f9f9",
      "1b9882833c54419ebe98638e887fc6cd",
      "5358c148433e4d37bdf2d10e5252b881",
      "df518b97be6644f1a003a0c0700a405b",
      "aafe19c3249a4299aea0fe06b72cdce8",
      "183be0d3dfa548a99862140f15b56821",
      "29395a93c68b4a2a9b7016911dd46e01",
      "b497caabf15142a4b256b5787e06d4ec",
      "0483b5b15e8d4663a0fa271201f4185f",
      "56d379b5703a449e8b479bca0a535b29",
      "9913d1148ffa489fa2a2c694309d8aca",
      "fceb72defb9a42f2a9b91f5a3f34d135",
      "26761db079f74f9996fe5549d9c5ee60",
      "8ae74c579eea407f96a67745479dec08",
      "3f1c732adf47493ba849388b5bec7a7b",
      "a5ff633e3d7c43358d9a13fe6185f8ce",
      "06b23954aa6d4e0eb9b307a6ba602ca9",
      "047005560baf4db0bbd39578f3299921",
      "aec18b6be2fc4c33a3cc9deee544a957",
      "ace83fae41964575b32bfec83b2d1934",
      "076750673bf94b1d80bb96f3a5aa816e",
      "c70cf5c2c79b42a3ad3abcae0fccc19f",
      "04ec61cb0f1742e7a16f3672779da650",
      "fb88c237c2fa4e778e7c7d82bb6bc68d",
      "99ec5b51b7aa46ac8ef2ae851395ec3c"
     ]
    },
    "id": "4_Pk637B3pB7",
    "outputId": "5a644173-0f15-4c40-ac92-d11bc7fdbce0"
   },
   "outputs": [
    {
     "name": "stderr",
     "output_type": "stream",
     "text": [
      "/usr/local/lib/python3.11/dist-packages/huggingface_hub/utils/_auth.py:94: UserWarning: \n",
      "The secret `HF_TOKEN` does not exist in your Colab secrets.\n",
      "To authenticate with the Hugging Face Hub, create a token in your settings tab (https://huggingface.co/settings/tokens), set it as secret in your Google Colab and restart your session.\n",
      "You will be able to reuse this secret in all of your notebooks.\n",
      "Please note that authentication is recommended but still optional to access public models or datasets.\n",
      "  warnings.warn(\n"
     ]
    },
    {
     "data": {
      "application/vnd.jupyter.widget-view+json": {
       "model_id": "67f8aa28391b44799f6b9038eb379557",
       "version_major": 2,
       "version_minor": 0
      },
      "text/plain": [
       "README.md:   0%|          | 0.00/4.65k [00:00<?, ?B/s]"
      ]
     },
     "metadata": {},
     "output_type": "display_data"
    },
    {
     "data": {
      "application/vnd.jupyter.widget-view+json": {
       "model_id": "53f55dfea2614e0c86719ec942061124",
       "version_major": 2,
       "version_minor": 0
      },
      "text/plain": [
       "train.csv:   0%|          | 0.00/11.3M [00:00<?, ?B/s]"
      ]
     },
     "metadata": {},
     "output_type": "display_data"
    },
    {
     "data": {
      "application/vnd.jupyter.widget-view+json": {
       "model_id": "e76daeb80f16469cb0611e422be56b5b",
       "version_major": 2,
       "version_minor": 0
      },
      "text/plain": [
       "validation.csv:   0%|          | 0.00/442k [00:00<?, ?B/s]"
      ]
     },
     "metadata": {},
     "output_type": "display_data"
    },
    {
     "data": {
      "application/vnd.jupyter.widget-view+json": {
       "model_id": "f6eae6f01a1443c9aa4a9677cdb55090",
       "version_major": 2,
       "version_minor": 0
      },
      "text/plain": [
       "test.csv:   0%|          | 0.00/1.35M [00:00<?, ?B/s]"
      ]
     },
     "metadata": {},
     "output_type": "display_data"
    },
    {
     "data": {
      "application/vnd.jupyter.widget-view+json": {
       "model_id": "1ec6e05942984ff4bd7ebd882a597163",
       "version_major": 2,
       "version_minor": 0
      },
      "text/plain": [
       "Generating train split:   0%|          | 0/12460 [00:00<?, ? examples/s]"
      ]
     },
     "metadata": {},
     "output_type": "display_data"
    },
    {
     "data": {
      "application/vnd.jupyter.widget-view+json": {
       "model_id": "df518b97be6644f1a003a0c0700a405b",
       "version_major": 2,
       "version_minor": 0
      },
      "text/plain": [
       "Generating validation split:   0%|          | 0/500 [00:00<?, ? examples/s]"
      ]
     },
     "metadata": {},
     "output_type": "display_data"
    },
    {
     "data": {
      "application/vnd.jupyter.widget-view+json": {
       "model_id": "3f1c732adf47493ba849388b5bec7a7b",
       "version_major": 2,
       "version_minor": 0
      },
      "text/plain": [
       "Generating test split:   0%|          | 0/1500 [00:00<?, ? examples/s]"
      ]
     },
     "metadata": {},
     "output_type": "display_data"
    }
   ],
   "source": [
    "from datasets import load_dataset\n",
    "\n",
    "df = load_dataset(\"knkarthick/dialogsum\")"
   ]
  },
  {
   "cell_type": "code",
   "execution_count": null,
   "metadata": {
    "colab": {
     "base_uri": "https://localhost:8080/"
    },
    "id": "VigsXxCZ4dfD",
    "outputId": "3eb6a760-ae36-42e3-d972-30dafabf243c"
   },
   "outputs": [
    {
     "data": {
      "text/plain": [
       "DatasetDict({\n",
       "    train: Dataset({\n",
       "        features: ['id', 'dialogue', 'summary', 'topic'],\n",
       "        num_rows: 12460\n",
       "    })\n",
       "    validation: Dataset({\n",
       "        features: ['id', 'dialogue', 'summary', 'topic'],\n",
       "        num_rows: 500\n",
       "    })\n",
       "    test: Dataset({\n",
       "        features: ['id', 'dialogue', 'summary', 'topic'],\n",
       "        num_rows: 1500\n",
       "    })\n",
       "})"
      ]
     },
     "execution_count": 4,
     "metadata": {},
     "output_type": "execute_result"
    }
   ],
   "source": [
    "df"
   ]
  },
  {
   "cell_type": "code",
   "execution_count": null,
   "metadata": {
    "colab": {
     "base_uri": "https://localhost:8080/",
     "height": 140
    },
    "id": "Na0l2rS_4hSy",
    "outputId": "f25b71e1-f884-477e-beb6-d7a8ae63bb9a"
   },
   "outputs": [
    {
     "data": {
      "application/vnd.google.colaboratory.intrinsic+json": {
       "type": "string"
      },
      "text/plain": [
       "\"#Person1#: Hello Mrs. Parker, how have you been?\\n#Person2#: Hello Dr. Peters. Just fine thank you. Ricky and I are here for his vaccines.\\n#Person1#: Very well. Let's see, according to his vaccination record, Ricky has received his Polio, Tetanus and Hepatitis B shots. He is 14 months old, so he is due for Hepatitis A, Chickenpox and Measles shots.\\n#Person2#: What about Rubella and Mumps?\\n#Person1#: Well, I can only give him these for now, and after a couple of weeks I can administer the rest.\\n#Person2#: OK, great. Doctor, I think I also may need a Tetanus booster. Last time I got it was maybe fifteen years ago!\\n#Person1#: We will check our records and I'll have the nurse administer and the booster as well. Now, please hold Ricky's arm tight, this may sting a little.\""
      ]
     },
     "execution_count": 5,
     "metadata": {},
     "output_type": "execute_result"
    }
   ],
   "source": [
    "df['train'][1]['dialogue']"
   ]
  },
  {
   "cell_type": "code",
   "execution_count": null,
   "metadata": {
    "colab": {
     "base_uri": "https://localhost:8080/",
     "height": 35
    },
    "id": "vxPPRofA5We9",
    "outputId": "b7f27fb5-18a2-42db-f6b7-c41f4628b1cd"
   },
   "outputs": [
    {
     "data": {
      "application/vnd.google.colaboratory.intrinsic+json": {
       "type": "string"
      },
      "text/plain": [
       "'Mrs Parker takes Ricky for his vaccines. Dr. Peters checks the record and then gives Ricky a vaccine.'"
      ]
     },
     "execution_count": 6,
     "metadata": {},
     "output_type": "execute_result"
    }
   ],
   "source": [
    "df['train'][1]['summary']"
   ]
  },
  {
   "cell_type": "markdown",
   "metadata": {
    "id": "rFmdvkT58vej"
   },
   "source": [
    "## FINE - TUNING MODEL"
   ]
  },
  {
   "cell_type": "code",
   "execution_count": null,
   "metadata": {
    "id": "MtI2iSXw7_D_"
   },
   "outputs": [],
   "source": [
    "from transformers import AutoTokenizer, AutoModelForSeq2SeqLM\n",
    "from transformers import TrainingArguments, Trainer"
   ]
  },
  {
   "cell_type": "code",
   "execution_count": null,
   "metadata": {
    "colab": {
     "base_uri": "https://localhost:8080/",
     "height": 145,
     "referenced_widgets": [
      "4bc23c2642dc4c73bc4d8d88ab25f174",
      "7af77adb9c5241d6b70765795dbe38e0",
      "3549888aa8ad4fdb848652aeacb6dfe4",
      "b5b4fdc1cfa84f35914d204157dc6b69",
      "cb72153ff6704a0bad7328e4b3cf74c3",
      "3e3f469dab834453a16d85fd0f5ab3a3",
      "c34879152fff40e9b3afa1f31dfb28b0",
      "50db7793fd774775b7b703fc3de499a6",
      "e9bf98a1411e4e8bb2f82f1702ad999f",
      "938ee31cbe1644b683131b312b651f1b",
      "b18c618286014d3dab560307cec2dcc8",
      "117b6cbb03494d03bd4d7d3e82956bdf",
      "d132734195114c7d97e17a5d3af24981",
      "176ecbf73d574f5db6a83d479c4d43d6",
      "d76bf2b0213e4499849c8fa1f6c558ea",
      "854205812a404bbf82f821139ede51f6",
      "1a9c887f6d2844d2b770be97a386b0e3",
      "5608b8d1fda04fdf9d3c3b220d624d5d",
      "d3340833300e45af898b97d0d8c2b5a8",
      "b1296e31b5be4c7db36289db79d89620",
      "45a3e9a92db048ef91c80923fa403487",
      "7161f9b81f78434e8e9d3444d8ebb132",
      "91f86c6e495a4e249bb17e516f1423be",
      "c9f44ff0efb441a4b26a8c6bacd73bb4",
      "6300ee74e89241c8839511450115d49e",
      "7d3bef9c02cc49e49811370096c477b2",
      "0c863a443d1143a88117334f996a1e44",
      "8b2e114c1d2e484a8c639969b9e36973",
      "c7875c9349ee405ba0ae3409729cadc7",
      "ba20c05e7246400397112fa0adb28bd7",
      "9e18f9caaf074a55aa53abc952c83fde",
      "bcaf7875754945bc940a1caaee60ab4d",
      "36d764084ee44a4aae147b03039cbbec",
      "a67698dec20044df931f74a5da43bac9",
      "7376b681bb034013a165d1fe04a12085",
      "d2426d6d420a47ee8b7a4107e6366891",
      "1227f9cacdd549acb20ef99883974793",
      "c23d48d4f1c9460a94e57b46c06caed6",
      "26002f8b7dc643a8b4f58e653307ac6c",
      "2058d13c48e6485bb1e9aed09f78595f",
      "16a50488fa174889b01c0f11a3ffb856",
      "4da902c6a794468db10084707820604b",
      "1cf08daf404449388c7278689e6f9de2",
      "f59bdb6995224287a16dd326b05afd32"
     ]
    },
    "id": "PYhb6GbL9X1V",
    "outputId": "7aa979c2-5f09-42be-ea6d-227bfecaf5fa"
   },
   "outputs": [
    {
     "data": {
      "application/vnd.jupyter.widget-view+json": {
       "model_id": "4bc23c2642dc4c73bc4d8d88ab25f174",
       "version_major": 2,
       "version_minor": 0
      },
      "text/plain": [
       "config.json:   0%|          | 0.00/1.72k [00:00<?, ?B/s]"
      ]
     },
     "metadata": {},
     "output_type": "display_data"
    },
    {
     "data": {
      "application/vnd.jupyter.widget-view+json": {
       "model_id": "117b6cbb03494d03bd4d7d3e82956bdf",
       "version_major": 2,
       "version_minor": 0
      },
      "text/plain": [
       "vocab.json:   0%|          | 0.00/899k [00:00<?, ?B/s]"
      ]
     },
     "metadata": {},
     "output_type": "display_data"
    },
    {
     "data": {
      "application/vnd.jupyter.widget-view+json": {
       "model_id": "91f86c6e495a4e249bb17e516f1423be",
       "version_major": 2,
       "version_minor": 0
      },
      "text/plain": [
       "merges.txt:   0%|          | 0.00/456k [00:00<?, ?B/s]"
      ]
     },
     "metadata": {},
     "output_type": "display_data"
    },
    {
     "data": {
      "application/vnd.jupyter.widget-view+json": {
       "model_id": "a67698dec20044df931f74a5da43bac9",
       "version_major": 2,
       "version_minor": 0
      },
      "text/plain": [
       "tokenizer.json:   0%|          | 0.00/1.36M [00:00<?, ?B/s]"
      ]
     },
     "metadata": {},
     "output_type": "display_data"
    }
   ],
   "source": [
    "tokenizer = AutoTokenizer.from_pretrained(\"facebook/bart-base\")"
   ]
  },
  {
   "cell_type": "code",
   "execution_count": null,
   "metadata": {
    "colab": {
     "base_uri": "https://localhost:8080/",
     "height": 49,
     "referenced_widgets": [
      "ab65bfde48c84244ad61e275fc03f693",
      "23d994011c954885879b8ce67c0bf8f3",
      "deef7b1bcc34453faf8a62b5defbf960",
      "531cb995d5a7428bb60773414a4ae40d",
      "99f7d86f43d34dbaa35eb15c18840899",
      "c1209e0dedcb4d78b706593095b79c0a",
      "2558c8e8021a40e3b925aac7411f9a1a",
      "8daedc0b644c4e7abfb36fd368c535af",
      "69e1485d99cd47dab14e0a8a1b1d5e87",
      "645134aac1f8472197bb32990a4c805a",
      "6404d571e9024b41a98ba2f0b3b0a0f6"
     ]
    },
    "id": "5gzSiav39kYs",
    "outputId": "0f51e979-7641-40ae-d2b6-24656268dadf"
   },
   "outputs": [
    {
     "data": {
      "application/vnd.jupyter.widget-view+json": {
       "model_id": "ab65bfde48c84244ad61e275fc03f693",
       "version_major": 2,
       "version_minor": 0
      },
      "text/plain": [
       "model.safetensors:   0%|          | 0.00/558M [00:00<?, ?B/s]"
      ]
     },
     "metadata": {},
     "output_type": "display_data"
    }
   ],
   "source": [
    "model = AutoModelForSeq2SeqLM.from_pretrained(\"facebook/bart-base\")"
   ]
  },
  {
   "cell_type": "markdown",
   "metadata": {
    "id": "OngVfOX-WCl1"
   },
   "source": [
    "'input_ids' represent the tokenized form of your input text. Each token (which could be a word or part of a word) is converted into a unique integer ID based on the model's vocabulary."
   ]
  },
  {
   "cell_type": "markdown",
   "metadata": {
    "id": "q_mmJIGGV3ge"
   },
   "source": [
    "'attention_mask' is a tensor that indicates which tokens should be attended to and which should be ignored (usually padding tokens). It’s a binary mask where typically:\n",
    "\n",
    "- 1 indicates that the token should be attended to.\n",
    "- 0 indicates that the token is padding and should be ignored."
   ]
  },
  {
   "cell_type": "markdown",
   "metadata": {
    "id": "BB6D9O3MYQ70"
   },
   "source": [
    "In sequence-to-sequence models, such as text summarization models, you have:\n",
    "\n",
    "- Input IDs: Tokenized IDs of the source text (e.g., dialogue).\n",
    "- Target IDs: Tokenized IDs of the target text (e.g., summary).<br>\n",
    "\n",
    "During training, the model computes the loss between the predicted sequence and the target sequence. To ensure that padding tokens do not affect this loss calculation, padding token IDs are often replaced with -100.\n",
    "\n"
   ]
  },
  {
   "cell_type": "code",
   "execution_count": null,
   "metadata": {
    "colab": {
     "base_uri": "https://localhost:8080/",
     "height": 113,
     "referenced_widgets": [
      "5a41e37b597b4c349a8bfd710d1f5a5b",
      "e1cef479cb0f47ceb793d01fb623b90d",
      "53db6e7f05374140af7469afffbf3357",
      "cc3ee2b585f0462c8c2f8327461725ad",
      "e016428fc4134cc08709bf3efb3d2259",
      "7e0ee263053547e08bfc8151e5141431",
      "37f349d9eeda4b8299eb842c084b8139",
      "71e56fe68fd5480594b89eb4c853cddf",
      "079dbc43e416425d8b31443e69c16e60",
      "d7c7ab461a584c7fa5fef1323a3d06ae",
      "b806f0d4696c468e9b9e36e8e54706a2",
      "bc2e559e575c4e06a5b6a82e7fbcd0ca",
      "e5fadacee2674b3f9ff7ee46f3f5476f",
      "49d19a5672eb4d9cb596cfb7dbebf51f",
      "77e40b2b83984c5b978d52fe7de85431",
      "36830b249d0f4fefbad875f045e55175",
      "c86df20a721f473cbbce44b93547c5f9",
      "59f7b4892ee84df1b1d56820f5158734",
      "8927d1a1dc104e3497174ab0314d09a4",
      "9fee2ff499b24b6db701c6a2b2b88361",
      "a8bdab1812314e3a8dc980e6294717e5",
      "bb04f037ce834b4394991935a3e5f95f",
      "ed645b0357cb451e931ba77cc6636365",
      "117b8a78677541eaab16107461098c5d",
      "8d17d0d87b594bf6853e41d15e9b9357",
      "b53a3861816b463cb9e03234c37a496f",
      "cbfefcfd0c8047579facc870e4c4753f",
      "ecaebb6363b0498b88a480b940279c88",
      "24017ce53b904f0dafb105ccd7823d5f",
      "b933778f68e04232a6954d884a848cfa",
      "42167ac24c734386bf82b82a8d199280",
      "b373c3b461cc4f2089d37614e90963a3",
      "9eacaf34b92747229ae853aa0ba662bd"
     ]
    },
    "id": "Icy1UdVS9plD",
    "outputId": "d91f9cf1-3b54-464b-a2e7-a8a2f14bde00"
   },
   "outputs": [
    {
     "data": {
      "application/vnd.jupyter.widget-view+json": {
       "model_id": "5a41e37b597b4c349a8bfd710d1f5a5b",
       "version_major": 2,
       "version_minor": 0
      },
      "text/plain": [
       "Map:   0%|          | 0/12460 [00:00<?, ? examples/s]"
      ]
     },
     "metadata": {},
     "output_type": "display_data"
    },
    {
     "data": {
      "application/vnd.jupyter.widget-view+json": {
       "model_id": "bc2e559e575c4e06a5b6a82e7fbcd0ca",
       "version_major": 2,
       "version_minor": 0
      },
      "text/plain": [
       "Map:   0%|          | 0/500 [00:00<?, ? examples/s]"
      ]
     },
     "metadata": {},
     "output_type": "display_data"
    },
    {
     "data": {
      "application/vnd.jupyter.widget-view+json": {
       "model_id": "ed645b0357cb451e931ba77cc6636365",
       "version_major": 2,
       "version_minor": 0
      },
      "text/plain": [
       "Map:   0%|          | 0/1500 [00:00<?, ? examples/s]"
      ]
     },
     "metadata": {},
     "output_type": "display_data"
    }
   ],
   "source": [
    "#tokenization\n",
    "\n",
    "def preprocess_function(batch):\n",
    "    source = batch['dialogue']\n",
    "    target = batch[\"summary\"]\n",
    "    source_ids = tokenizer(source, truncation=True, padding=\"max_length\", max_length=128)\n",
    "    target_ids = tokenizer(target, truncation=True, padding=\"max_length\", max_length=128)\n",
    "\n",
    "    # Replace pad token id with -100 for labels to ignore padding in loss computation\n",
    "    labels = target_ids[\"input_ids\"]\n",
    "    labels = [[(label if label != tokenizer.pad_token_id else -100) for label in labels_example] for labels_example in labels]\n",
    "\n",
    "    return {\n",
    "        \"input_ids\": source_ids[\"input_ids\"],\n",
    "        \"attention_mask\": source_ids[\"attention_mask\"],\n",
    "        \"labels\": labels\n",
    "    }\n",
    "\n",
    "df_source = df.map(preprocess_function, batched=True)"
   ]
  },
  {
   "cell_type": "code",
   "execution_count": null,
   "metadata": {
    "id": "dKGPehaXAYKD"
   },
   "outputs": [],
   "source": [
    "# Define training arguments\n",
    "training_args = TrainingArguments(\n",
    "    output_dir=\"/content\",  # Replace with your output directory\n",
    "    per_device_train_batch_size=8,\n",
    "    num_train_epochs=2,  # Adjust number of epochs as needed\n",
    "    remove_unused_columns=False\n",
    ")"
   ]
  },
  {
   "cell_type": "code",
   "execution_count": null,
   "metadata": {
    "colab": {
     "base_uri": "https://localhost:8080/",
     "height": 648
    },
    "id": "2D8SXEuFAfU0",
    "outputId": "48964404-15c4-410e-d910-31325df5ff99"
   },
   "outputs": [
    {
     "name": "stderr",
     "output_type": "stream",
     "text": [
      "\u001b[34m\u001b[1mwandb\u001b[0m: \u001b[33mWARNING\u001b[0m The `run_name` is currently set to the same value as `TrainingArguments.output_dir`. If this was not intended, please specify a different run name by setting the `TrainingArguments.run_name` parameter.\n",
      "\u001b[34m\u001b[1mwandb\u001b[0m: Using wandb-core as the SDK backend.  Please refer to https://wandb.me/wandb-core for more information.\n"
     ]
    },
    {
     "data": {
      "application/javascript": [
       "\n",
       "        window._wandbApiKey = new Promise((resolve, reject) => {\n",
       "            function loadScript(url) {\n",
       "            return new Promise(function(resolve, reject) {\n",
       "                let newScript = document.createElement(\"script\");\n",
       "                newScript.onerror = reject;\n",
       "                newScript.onload = resolve;\n",
       "                document.body.appendChild(newScript);\n",
       "                newScript.src = url;\n",
       "            });\n",
       "            }\n",
       "            loadScript(\"https://cdn.jsdelivr.net/npm/postmate/build/postmate.min.js\").then(() => {\n",
       "            const iframe = document.createElement('iframe')\n",
       "            iframe.style.cssText = \"width:0;height:0;border:none\"\n",
       "            document.body.appendChild(iframe)\n",
       "            const handshake = new Postmate({\n",
       "                container: iframe,\n",
       "                url: 'https://wandb.ai/authorize'\n",
       "            });\n",
       "            const timeout = setTimeout(() => reject(\"Couldn't auto authenticate\"), 5000)\n",
       "            handshake.then(function(child) {\n",
       "                child.on('authorize', data => {\n",
       "                    clearTimeout(timeout)\n",
       "                    resolve(data)\n",
       "                });\n",
       "            });\n",
       "            })\n",
       "        });\n",
       "    "
      ],
      "text/plain": [
       "<IPython.core.display.Javascript object>"
      ]
     },
     "metadata": {},
     "output_type": "display_data"
    },
    {
     "name": "stderr",
     "output_type": "stream",
     "text": [
      "\u001b[34m\u001b[1mwandb\u001b[0m: Logging into wandb.ai. (Learn how to deploy a W&B server locally: https://wandb.me/wandb-server)\n",
      "\u001b[34m\u001b[1mwandb\u001b[0m: You can find your API key in your browser here: https://wandb.ai/authorize\n",
      "wandb: Paste an API key from your profile and hit enter:"
     ]
    },
    {
     "name": "stdout",
     "output_type": "stream",
     "text": [
      " ··········\n"
     ]
    },
    {
     "name": "stderr",
     "output_type": "stream",
     "text": [
      "\u001b[34m\u001b[1mwandb\u001b[0m: \u001b[33mWARNING\u001b[0m If you're specifying your api key in code, ensure this code is not shared publicly.\n",
      "\u001b[34m\u001b[1mwandb\u001b[0m: \u001b[33mWARNING\u001b[0m Consider setting the WANDB_API_KEY environment variable, or running `wandb login` from the command line.\n",
      "\u001b[34m\u001b[1mwandb\u001b[0m: No netrc file found, creating one.\n",
      "\u001b[34m\u001b[1mwandb\u001b[0m: Appending key for api.wandb.ai to your netrc file: /root/.netrc\n",
      "\u001b[34m\u001b[1mwandb\u001b[0m: Currently logged in as: \u001b[33mannisaheyy\u001b[0m (\u001b[33mannisaheyy-universitas-sriwijaya\u001b[0m) to \u001b[32mhttps://api.wandb.ai\u001b[0m. Use \u001b[1m`wandb login --relogin`\u001b[0m to force relogin\n"
     ]
    },
    {
     "data": {
      "text/html": [
       "Tracking run with wandb version 0.19.9"
      ],
      "text/plain": [
       "<IPython.core.display.HTML object>"
      ]
     },
     "metadata": {},
     "output_type": "display_data"
    },
    {
     "data": {
      "text/html": [
       "Run data is saved locally in <code>/content/wandb/run-20250413_144301-j9zrpn1a</code>"
      ],
      "text/plain": [
       "<IPython.core.display.HTML object>"
      ]
     },
     "metadata": {},
     "output_type": "display_data"
    },
    {
     "data": {
      "text/html": [
       "Syncing run <strong><a href='https://wandb.ai/annisaheyy-universitas-sriwijaya/huggingface/runs/j9zrpn1a' target=\"_blank\">/content</a></strong> to <a href='https://wandb.ai/annisaheyy-universitas-sriwijaya/huggingface' target=\"_blank\">Weights & Biases</a> (<a href='https://wandb.me/developer-guide' target=\"_blank\">docs</a>)<br>"
      ],
      "text/plain": [
       "<IPython.core.display.HTML object>"
      ]
     },
     "metadata": {},
     "output_type": "display_data"
    },
    {
     "data": {
      "text/html": [
       " View project at <a href='https://wandb.ai/annisaheyy-universitas-sriwijaya/huggingface' target=\"_blank\">https://wandb.ai/annisaheyy-universitas-sriwijaya/huggingface</a>"
      ],
      "text/plain": [
       "<IPython.core.display.HTML object>"
      ]
     },
     "metadata": {},
     "output_type": "display_data"
    },
    {
     "data": {
      "text/html": [
       " View run at <a href='https://wandb.ai/annisaheyy-universitas-sriwijaya/huggingface/runs/j9zrpn1a' target=\"_blank\">https://wandb.ai/annisaheyy-universitas-sriwijaya/huggingface/runs/j9zrpn1a</a>"
      ],
      "text/plain": [
       "<IPython.core.display.HTML object>"
      ]
     },
     "metadata": {},
     "output_type": "display_data"
    },
    {
     "data": {
      "text/html": [
       "\n",
       "    <div>\n",
       "      \n",
       "      <progress value='3116' max='3116' style='width:300px; height:20px; vertical-align: middle;'></progress>\n",
       "      [3116/3116 17:20, Epoch 2/2]\n",
       "    </div>\n",
       "    <table border=\"1\" class=\"dataframe\">\n",
       "  <thead>\n",
       " <tr style=\"text-align: left;\">\n",
       "      <th>Step</th>\n",
       "      <th>Training Loss</th>\n",
       "    </tr>\n",
       "  </thead>\n",
       "  <tbody>\n",
       "    <tr>\n",
       "      <td>500</td>\n",
       "      <td>1.886000</td>\n",
       "    </tr>\n",
       "    <tr>\n",
       "      <td>1000</td>\n",
       "      <td>1.740100</td>\n",
       "    </tr>\n",
       "    <tr>\n",
       "      <td>1500</td>\n",
       "      <td>1.687500</td>\n",
       "    </tr>\n",
       "    <tr>\n",
       "      <td>2000</td>\n",
       "      <td>1.488100</td>\n",
       "    </tr>\n",
       "    <tr>\n",
       "      <td>2500</td>\n",
       "      <td>1.442200</td>\n",
       "    </tr>\n",
       "    <tr>\n",
       "      <td>3000</td>\n",
       "      <td>1.425800</td>\n",
       "    </tr>\n",
       "  </tbody>\n",
       "</table><p>"
      ],
      "text/plain": [
       "<IPython.core.display.HTML object>"
      ]
     },
     "metadata": {},
     "output_type": "display_data"
    },
    {
     "name": "stderr",
     "output_type": "stream",
     "text": [
      "/usr/local/lib/python3.11/dist-packages/transformers/modeling_utils.py:3353: UserWarning: Moving the following attributes in the config to the generation config: {'early_stopping': True, 'num_beams': 4, 'no_repeat_ngram_size': 3, 'forced_bos_token_id': 0}. You are seeing this warning because you've set generation parameters in the model config, as opposed to in the generation config.\n",
      "  warnings.warn(\n"
     ]
    },
    {
     "data": {
      "text/plain": [
       "TrainOutput(global_step=3116, training_loss=1.6065121602950874, metrics={'train_runtime': 1139.6471, 'train_samples_per_second': 21.866, 'train_steps_per_second': 2.734, 'total_flos': 1899329067417600.0, 'train_loss': 1.6065121602950874, 'epoch': 2.0})"
      ]
     },
     "execution_count": 12,
     "metadata": {},
     "output_type": "execute_result"
    }
   ],
   "source": [
    "# Create Trainer object\n",
    "trainer = Trainer(\n",
    "    model=model,\n",
    "    args=training_args,\n",
    "    train_dataset=df_source[\"train\"],\n",
    "    eval_dataset=df_source[\"test\"]\n",
    ")\n",
    "\n",
    "trainer.train()"
   ]
  },
  {
   "cell_type": "code",
   "execution_count": null,
   "metadata": {
    "colab": {
     "base_uri": "https://localhost:8080/",
     "height": 74
    },
    "id": "D-O3aB7m_oWs",
    "outputId": "7a9e2aa4-78ba-4d94-f251-d2a25bcb1983"
   },
   "outputs": [
    {
     "data": {
      "text/html": [
       "\n",
       "    <div>\n",
       "      \n",
       "      <progress value='188' max='188' style='width:300px; height:20px; vertical-align: middle;'></progress>\n",
       "      [188/188 00:16]\n",
       "    </div>\n",
       "    "
      ],
      "text/plain": [
       "<IPython.core.display.HTML object>"
      ]
     },
     "metadata": {},
     "output_type": "display_data"
    },
    {
     "name": "stdout",
     "output_type": "stream",
     "text": [
      "{'eval_loss': 1.6490644216537476, 'eval_runtime': 16.8687, 'eval_samples_per_second': 88.922, 'eval_steps_per_second': 11.145, 'epoch': 2.0}\n"
     ]
    }
   ],
   "source": [
    "# Evaluate the model\n",
    "eval_results = trainer.evaluate()\n",
    "\n",
    "# Print evaluation results\n",
    "print(eval_results)"
   ]
  },
  {
   "cell_type": "code",
   "execution_count": null,
   "metadata": {
    "colab": {
     "base_uri": "https://localhost:8080/"
    },
    "id": "AhTM6d2vq0P7",
    "outputId": "5ca3ef9f-e7f6-457b-f2cc-3ff88a6b93e7"
   },
   "outputs": [
    {
     "name": "stdout",
     "output_type": "stream",
     "text": [
      "Collecting evaluate\n",
      "  Downloading evaluate-0.4.3-py3-none-any.whl.metadata (9.2 kB)\n",
      "Requirement already satisfied: datasets>=2.0.0 in /usr/local/lib/python3.11/dist-packages (from evaluate) (3.5.0)\n",
      "Requirement already satisfied: numpy>=1.17 in /usr/local/lib/python3.11/dist-packages (from evaluate) (2.0.2)\n",
      "Requirement already satisfied: dill in /usr/local/lib/python3.11/dist-packages (from evaluate) (0.3.8)\n",
      "Requirement already satisfied: pandas in /usr/local/lib/python3.11/dist-packages (from evaluate) (2.2.2)\n",
      "Requirement already satisfied: requests>=2.19.0 in /usr/local/lib/python3.11/dist-packages (from evaluate) (2.32.3)\n",
      "Requirement already satisfied: tqdm>=4.62.1 in /usr/local/lib/python3.11/dist-packages (from evaluate) (4.67.1)\n",
      "Requirement already satisfied: xxhash in /usr/local/lib/python3.11/dist-packages (from evaluate) (3.5.0)\n",
      "Requirement already satisfied: multiprocess in /usr/local/lib/python3.11/dist-packages (from evaluate) (0.70.16)\n",
      "Requirement already satisfied: fsspec>=2021.05.0 in /usr/local/lib/python3.11/dist-packages (from fsspec[http]>=2021.05.0->evaluate) (2024.12.0)\n",
      "Requirement already satisfied: huggingface-hub>=0.7.0 in /usr/local/lib/python3.11/dist-packages (from evaluate) (0.30.1)\n",
      "Requirement already satisfied: packaging in /usr/local/lib/python3.11/dist-packages (from evaluate) (24.2)\n",
      "Requirement already satisfied: filelock in /usr/local/lib/python3.11/dist-packages (from datasets>=2.0.0->evaluate) (3.18.0)\n",
      "Requirement already satisfied: pyarrow>=15.0.0 in /usr/local/lib/python3.11/dist-packages (from datasets>=2.0.0->evaluate) (18.1.0)\n",
      "Requirement already satisfied: aiohttp in /usr/local/lib/python3.11/dist-packages (from datasets>=2.0.0->evaluate) (3.11.15)\n",
      "Requirement already satisfied: pyyaml>=5.1 in /usr/local/lib/python3.11/dist-packages (from datasets>=2.0.0->evaluate) (6.0.2)\n",
      "Requirement already satisfied: typing-extensions>=3.7.4.3 in /usr/local/lib/python3.11/dist-packages (from huggingface-hub>=0.7.0->evaluate) (4.13.1)\n",
      "Requirement already satisfied: charset-normalizer<4,>=2 in /usr/local/lib/python3.11/dist-packages (from requests>=2.19.0->evaluate) (3.4.1)\n",
      "Requirement already satisfied: idna<4,>=2.5 in /usr/local/lib/python3.11/dist-packages (from requests>=2.19.0->evaluate) (3.10)\n",
      "Requirement already satisfied: urllib3<3,>=1.21.1 in /usr/local/lib/python3.11/dist-packages (from requests>=2.19.0->evaluate) (2.3.0)\n",
      "Requirement already satisfied: certifi>=2017.4.17 in /usr/local/lib/python3.11/dist-packages (from requests>=2.19.0->evaluate) (2025.1.31)\n",
      "Requirement already satisfied: python-dateutil>=2.8.2 in /usr/local/lib/python3.11/dist-packages (from pandas->evaluate) (2.8.2)\n",
      "Requirement already satisfied: pytz>=2020.1 in /usr/local/lib/python3.11/dist-packages (from pandas->evaluate) (2025.2)\n",
      "Requirement already satisfied: tzdata>=2022.7 in /usr/local/lib/python3.11/dist-packages (from pandas->evaluate) (2025.2)\n",
      "Requirement already satisfied: aiohappyeyeballs>=2.3.0 in /usr/local/lib/python3.11/dist-packages (from aiohttp->datasets>=2.0.0->evaluate) (2.6.1)\n",
      "Requirement already satisfied: aiosignal>=1.1.2 in /usr/local/lib/python3.11/dist-packages (from aiohttp->datasets>=2.0.0->evaluate) (1.3.2)\n",
      "Requirement already satisfied: attrs>=17.3.0 in /usr/local/lib/python3.11/dist-packages (from aiohttp->datasets>=2.0.0->evaluate) (25.3.0)\n",
      "Requirement already satisfied: frozenlist>=1.1.1 in /usr/local/lib/python3.11/dist-packages (from aiohttp->datasets>=2.0.0->evaluate) (1.5.0)\n",
      "Requirement already satisfied: multidict<7.0,>=4.5 in /usr/local/lib/python3.11/dist-packages (from aiohttp->datasets>=2.0.0->evaluate) (6.3.2)\n",
      "Requirement already satisfied: propcache>=0.2.0 in /usr/local/lib/python3.11/dist-packages (from aiohttp->datasets>=2.0.0->evaluate) (0.3.1)\n",
      "Requirement already satisfied: yarl<2.0,>=1.17.0 in /usr/local/lib/python3.11/dist-packages (from aiohttp->datasets>=2.0.0->evaluate) (1.18.3)\n",
      "Requirement already satisfied: six>=1.5 in /usr/local/lib/python3.11/dist-packages (from python-dateutil>=2.8.2->pandas->evaluate) (1.17.0)\n",
      "Downloading evaluate-0.4.3-py3-none-any.whl (84 kB)\n",
      "\u001b[2K   \u001b[90m━━━━━━━━━━━━━━━━━━━━━━━━━━━━━━━━━━━━━━━━\u001b[0m \u001b[32m84.0/84.0 kB\u001b[0m \u001b[31m3.0 MB/s\u001b[0m eta \u001b[36m0:00:00\u001b[0m\n",
      "\u001b[?25hInstalling collected packages: evaluate\n",
      "Successfully installed evaluate-0.4.3\n",
      "Collecting rouge_score\n",
      "  Downloading rouge_score-0.1.2.tar.gz (17 kB)\n",
      "  Preparing metadata (setup.py) ... \u001b[?25l\u001b[?25hdone\n",
      "Requirement already satisfied: absl-py in /usr/local/lib/python3.11/dist-packages (from rouge_score) (1.4.0)\n",
      "Requirement already satisfied: nltk in /usr/local/lib/python3.11/dist-packages (from rouge_score) (3.9.1)\n",
      "Requirement already satisfied: numpy in /usr/local/lib/python3.11/dist-packages (from rouge_score) (2.0.2)\n",
      "Requirement already satisfied: six>=1.14.0 in /usr/local/lib/python3.11/dist-packages (from rouge_score) (1.17.0)\n",
      "Requirement already satisfied: click in /usr/local/lib/python3.11/dist-packages (from nltk->rouge_score) (8.1.8)\n",
      "Requirement already satisfied: joblib in /usr/local/lib/python3.11/dist-packages (from nltk->rouge_score) (1.4.2)\n",
      "Requirement already satisfied: regex>=2021.8.3 in /usr/local/lib/python3.11/dist-packages (from nltk->rouge_score) (2024.11.6)\n",
      "Requirement already satisfied: tqdm in /usr/local/lib/python3.11/dist-packages (from nltk->rouge_score) (4.67.1)\n",
      "Building wheels for collected packages: rouge_score\n",
      "  Building wheel for rouge_score (setup.py) ... \u001b[?25l\u001b[?25hdone\n",
      "  Created wheel for rouge_score: filename=rouge_score-0.1.2-py3-none-any.whl size=24934 sha256=2ded2bf80d2a14427073bbbd78e246dc26c0ea426266068440fc957ea7a2ed62\n",
      "  Stored in directory: /root/.cache/pip/wheels/1e/19/43/8a442dc83660ca25e163e1bd1f89919284ab0d0c1475475148\n",
      "Successfully built rouge_score\n",
      "Installing collected packages: rouge_score\n",
      "Successfully installed rouge_score-0.1.2\n"
     ]
    }
   ],
   "source": [
    "!pip install evaluate\n",
    "!pip install rouge_score"
   ]
  },
  {
   "cell_type": "code",
   "execution_count": null,
   "metadata": {
    "colab": {
     "base_uri": "https://localhost:8080/"
    },
    "id": "cieLMMPmrNZZ",
    "outputId": "17b6660b-d383-4b24-857b-e073e814d563"
   },
   "outputs": [
    {
     "name": "stdout",
     "output_type": "stream",
     "text": [
      "ROUGE Evaluation Results:\n",
      "rouge1: 0.4571\n",
      "rouge2: 0.2412\n",
      "rougeL: 0.3950\n",
      "rougeLsum: 0.3951\n"
     ]
    }
   ],
   "source": [
    "import evaluate\n",
    "\n",
    "rouge = evaluate.load(\"rouge\")\n",
    "\n",
    "# Ambil 100 sampel untuk evaluasi (biar ringan)\n",
    "# Get a sample from the 'train' split of the dataset\n",
    "sample_df = df['train'].select(range(100)) # Select the first 100 rows\n",
    "\n",
    "def generate_summary(text):\n",
    "    input_text = \"summarize: \" + text\n",
    "    inputs = tokenizer(input_text, return_tensors=\"pt\", max_length=512, truncation=True, padding=\"max_length\").to(model.device) # Ensure inputs are on the same device as the model\n",
    "    summary_ids = model.generate(inputs[\"input_ids\"], max_length=50, num_beams=4, early_stopping=True)\n",
    "    return tokenizer.decode(summary_ids[0], skip_special_tokens=True)\n",
    "\n",
    "generated_summaries = [generate_summary(text) for text in sample_df['dialogue']]\n",
    "reference_summaries = sample_df['summary']\n",
    "\n",
    "results = rouge.compute(predictions=generated_summaries, references=reference_summaries)\n",
    "\n",
    "print(\"ROUGE Evaluation Results:\")\n",
    "for metric, score in results.items():\n",
    "    print(f\"{metric}: {score:.4f}\")"
   ]
  },
  {
   "cell_type": "markdown",
   "metadata": {
    "id": "0Ou3cpN6Syn-"
   },
   "source": [
    "#### SAVING THE MODEL"
   ]
  },
  {
   "cell_type": "code",
   "execution_count": null,
   "metadata": {
    "colab": {
     "base_uri": "https://localhost:8080/"
    },
    "id": "VBzLwhGeNUlM",
    "outputId": "2c21b228-95c0-4476-a1e3-9a9b2cf3590a"
   },
   "outputs": [
    {
     "data": {
      "text/plain": [
       "('/content/your_model_directory/tokenizer_config.json',\n",
       " '/content/your_model_directory/special_tokens_map.json',\n",
       " '/content/your_model_directory/vocab.json',\n",
       " '/content/your_model_directory/merges.txt',\n",
       " '/content/your_model_directory/added_tokens.json',\n",
       " '/content/your_model_directory/tokenizer.json')"
      ]
     },
     "execution_count": 13,
     "metadata": {},
     "output_type": "execute_result"
    }
   ],
   "source": [
    "# Save the model and tokenizer after training\n",
    "model.save_pretrained(\"/content/your_model_directory\")\n",
    "tokenizer.save_pretrained(\"/content/your_model_directory\")"
   ]
  },
  {
   "cell_type": "markdown",
   "metadata": {
    "id": "MdhZFDqzToQB"
   },
   "source": [
    "#### SUMMARIZING THE CUSTOM DATA USING SAVED MODEL AND TOKENIZER"
   ]
  },
  {
   "cell_type": "code",
   "execution_count": null,
   "metadata": {
    "colab": {
     "base_uri": "https://localhost:8080/"
    },
    "id": "EZtk6dlKNUin",
    "outputId": "7cd39073-a591-48a7-d2aa-21cf6460ad8c"
   },
   "outputs": [
    {
     "name": "stdout",
     "output_type": "stream",
     "text": [
      "Summary: #1 Yogi Berra predicts that climate finance will prove to be a key sticking point at COP29 in Baku. #2 Yogi thinks it is important to establish a new climate finance goal.\n"
     ]
    }
   ],
   "source": [
    "from transformers import AutoTokenizer, AutoModelForSeq2SeqLM\n",
    "\n",
    "# Load the trained model and tokenizer\n",
    "tokenizer = AutoTokenizer.from_pretrained(\"/content/your_model_directory\")\n",
    "model = AutoModelForSeq2SeqLM.from_pretrained(\"/content/your_model_directory\")\n",
    "\n",
    "# Function to summarize a blog post\n",
    "def summarize(blog_post):\n",
    "    # Tokenize the input blog post\n",
    "    inputs = tokenizer(blog_post, max_length=1024, truncation=True, return_tensors=\"pt\")\n",
    "\n",
    "    # Generate the summary\n",
    "    summary_ids = model.generate(inputs[\"input_ids\"], max_length=150, min_length=40, length_penalty=2.0, num_beams=4, early_stopping=True)\n",
    "\n",
    "    # Decode the summary\n",
    "    summary = tokenizer.decode(summary_ids[0], skip_special_tokens=True)\n",
    "    return summary\n",
    "\n",
    "# Example blog post\n",
    "blog_post = \"\"\"\n",
    "As Yogi Berra famously said, it’s tough to make predictions, especially about the future. But had the baseball legend spent any time observing the UN climate negotiations, he could have safely predicted that climate finance will prove to be a key sticking point at COP29 in Baku at the end of this year.\n",
    "\n",
    "‘Who will pay and how much?’ are perennial questions at the climate talks, but this year, the discussions about climate finance will be especially prominent. At COP29, Parties to the Paris Agreement must negotiate a new climate finance goal, to replace the existing commitment from 2009 for developed countries to provide US$100 billion climate finance annually from 2020 to 2025 - a commitment that only in 2022 was starting to be fulfilled, according to a recent OECD report.\n",
    "\n",
    "It is vital that the forthcoming Bonn Climate Change Conference sends the right political signals, and lays the procedural and technical groundwork for an ambitious climate finance deal in Baku.\n",
    "\n",
    "A pressing need\n",
    "\n",
    "With global warming already destabilising the climate and devastating people’s lives and livelihoods, the need for finance to reduce greenhouse gas emissions and to adapt to a warming world has never been more pressing.\n",
    "\n",
    "The sums involved are large. The Paris Agreement’s Global Stocktake process estimates that US$5.8-5.9 trillion is required to implement Nationally Determined Contributions (NDCs) in developing countries up to 2030. They will require US$215-387 billion annually over this period for adaptation. Investments of US$1.5 trillion in renewable energy are required worldwide every year up until 2030, according to IRENA.\n",
    "\n",
    "But these sums are also affordable and beneficial for developed countries. They should be seen in the context of ongoing investments in energy and other infrastructure: around US$2.3 trillion was invested in energy infrastructure in 2023, of which US$1.74 trillion was in clean energy. These investments will generate strong returns for their investors and reduce the costs for energy consumers.\n",
    "\n",
    "And, crucially, they should also be seen in the context of the alternative. The latest research estimates that the world economy is already set to face a 19% income reduction within the next 26 years based on the levels of warming we have already locked in. The more we delay and the more the planet heats, the greater the economic costs will be.\n",
    "\n",
    "Laying the foundations for a new finance goal\n",
    "\n",
    "While financial resources are beginning to flow, they are not flowing fast enough, and certainly not flowing to those developing countries where need is greatest and access to finance is most challenging.\n",
    "\n",
    "The UN climate framework provides mechanisms that can enable those flows of climate finance. Back in 2015, parties at the climate talks agreed to establish a “new collective quantified goal” (NCQG) for climate finance. They agreed that the NCQG would be set prior to 2025.\n",
    "\n",
    "The  ultimate size of the NCQG will be a product of the negotiations, but Parties have agreed it must be a significant increase from the floor of US$100 billion annually. For WWF, it must be needs-based and sufficiently ambitious to meet the scale of the challenge we face, and immediately accessible to help countries that are already facing the chaos of a destabilised climate system.\n",
    "\n",
    "While developed countries are expected to provide financial and technical support, developing countries also have a role to play. Parties are due to submit revised NDCs in 2025, presenting how they plan to reduce emissions and adapt to climate change. Developing countries have the opportunity to use their NDCs to set out how international climate finance can support them and increase their ambition. To do this, they need to know the finance will be forthcoming.\n",
    "\"\"\"\n",
    "\n",
    "# Get the summary\n",
    "summary = summarize(blog_post)\n",
    "print(\"Summary:\", summary)\n"
   ]
  },
  {
   "cell_type": "code",
   "execution_count": null,
   "metadata": {
    "colab": {
     "base_uri": "https://localhost:8080/"
    },
    "id": "eL0WPbhoAaNM",
    "outputId": "1ff00465-25f9-4e3e-bb69-48104c1de79a"
   },
   "outputs": [
    {
     "name": "stdout",
     "output_type": "stream",
     "text": [
      "Summary: The 29th UN Climate Change Conference is expected to focus on accelerating global commitments to reduce carbon emissions, transitioning to renewable energy sources, and protecting vulnerable ecosystems. However, experts warn that the reductions are not yet enough to meet the goals of the 2015 Paris Agreement, which aims to limit global warming to 1.5 degrees Celsius above pre-industrial levels. The United States, China, and the European Union have pledged additional funding and new policies to phase out coal, reduce dependency on fossil fuels, and support developing nations.\n"
     ]
    }
   ],
   "source": [
    "from transformers import AutoTokenizer, AutoModelForSeq2SeqLM\n",
    "\n",
    "# Load the trained model and tokenizer\n",
    "tokenizer = AutoTokenizer.from_pretrained(\"/content/your_model_directory\")\n",
    "model = AutoModelForSeq2SeqLM.from_pretrained(\"/content/your_model_directory\")\n",
    "\n",
    "# Function to summarize a blog post\n",
    "def summarize(blog_post):\n",
    "    # Tokenize the input blog post\n",
    "    inputs = tokenizer(blog_post, max_length=1024, truncation=True, return_tensors=\"pt\")\n",
    "\n",
    "    # Generate the summary\n",
    "    summary_ids = model.generate(inputs[\"input_ids\"], max_length=150, min_length=40, length_penalty=2.0, num_beams=4, early_stopping=True)\n",
    "\n",
    "    # Decode the summary\n",
    "    summary = tokenizer.decode(summary_ids[0], skip_special_tokens=True)\n",
    "    return summary\n",
    "\n",
    "# Example blog post\n",
    "blog_post = \"\"\"\n",
    "World leaders, environmental activists, and scientists are ramping up their efforts to combat climate change ahead of the 29th UN Climate Change Conference (COP29), scheduled to be held in Baku, Azerbaijan, in November 2025. The summit is expected to focus on accelerating global commitments to reduce carbon emissions, transitioning to renewable energy sources, and protecting vulnerable ecosystems.\n",
    "\n",
    "According to a new UN report released this week, global carbon emissions in 2024 slightly decreased due to increased investments in green technologies and policies promoting sustainable development. However, experts warn that the reductions are not yet enough to meet the goals of the 2015 Paris Agreement, which aims to limit global warming to 1.5 degrees Celsius above pre-industrial levels.\n",
    "\n",
    "Countries like the United States, China, and members of the European Union have pledged additional funding and new policies to phase out coal, reduce dependency on fossil fuels, and support developing nations in their climate resilience efforts. Meanwhile, youth-led movements and environmental organizations continue to pressure governments for stronger and more immediate actions.\"\"\"\n",
    "\n",
    "# Get the summary\n",
    "summary = summarize(blog_post)\n",
    "print(\"Summary:\", summary)\n"
   ]
  }
 ],
 "metadata": {
  "accelerator": "GPU",
  "colab": {
   "gpuType": "T4",
   "provenance": []
  },
  "kernelspec": {
   "display_name": "Python 3",
   "name": "python3"
  },
  "language_info": {
   "name": "python"
  }
 },
 "nbformat": 4,
 "nbformat_minor": 0
}
